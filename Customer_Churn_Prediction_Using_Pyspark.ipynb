{
  "nbformat": 4,
  "nbformat_minor": 0,
  "metadata": {
    "colab": {
      "provenance": [],
      "authorship_tag": "ABX9TyP9/AVvdBo3rFNSZPTBmZBK",
      "include_colab_link": true
    },
    "kernelspec": {
      "name": "python3",
      "display_name": "Python 3"
    },
    "language_info": {
      "name": "python"
    },
    "accelerator": "GPU",
    "gpuClass": "standard"
  },
  "cells": [
    {
      "cell_type": "markdown",
      "metadata": {
        "id": "view-in-github",
        "colab_type": "text"
      },
      "source": [
        "<a href=\"https://colab.research.google.com/github/prathammehta16/Customer_Churn_Prediction_Pyspark/blob/main/Customer_Churn_Prediction_Using_Pyspark.ipynb\" target=\"_parent\"><img src=\"https://colab.research.google.com/assets/colab-badge.svg\" alt=\"Open In Colab\"/></a>"
      ]
    },
    {
      "cell_type": "code",
      "execution_count": 1,
      "metadata": {
        "id": "mYK8ZkIOGcK8"
      },
      "outputs": [],
      "source": [
        "#from google.colab import drive\n",
        "#drive.mount('/content/drive')"
      ]
    },
    {
      "cell_type": "code",
      "source": [
        "!pip install pyspark"
      ],
      "metadata": {
        "colab": {
          "base_uri": "https://localhost:8080/"
        },
        "id": "imQ_cZeQGsY8",
        "outputId": "b5ce9156-a763-49bc-c777-3097de00d9ad"
      },
      "execution_count": 2,
      "outputs": [
        {
          "output_type": "stream",
          "name": "stdout",
          "text": [
            "Looking in indexes: https://pypi.org/simple, https://us-python.pkg.dev/colab-wheels/public/simple/\n",
            "Collecting pyspark\n",
            "  Downloading pyspark-3.3.1.tar.gz (281.4 MB)\n",
            "\u001b[2K     \u001b[90m━━━━━━━━━━━━━━━━━━━━━━━━━━━━━━━━━━━━━━━\u001b[0m \u001b[32m281.4/281.4 MB\u001b[0m \u001b[31m5.3 MB/s\u001b[0m eta \u001b[36m0:00:00\u001b[0m\n",
            "\u001b[?25h  Preparing metadata (setup.py) ... \u001b[?25l\u001b[?25hdone\n",
            "Collecting py4j==0.10.9.5\n",
            "  Downloading py4j-0.10.9.5-py2.py3-none-any.whl (199 kB)\n",
            "\u001b[2K     \u001b[90m━━━━━━━━━━━━━━━━━━━━━━━━━━━━━━━━━━━━━━\u001b[0m \u001b[32m199.7/199.7 KB\u001b[0m \u001b[31m23.4 MB/s\u001b[0m eta \u001b[36m0:00:00\u001b[0m\n",
            "\u001b[?25hBuilding wheels for collected packages: pyspark\n",
            "  Building wheel for pyspark (setup.py) ... \u001b[?25l\u001b[?25hdone\n",
            "  Created wheel for pyspark: filename=pyspark-3.3.1-py2.py3-none-any.whl size=281845512 sha256=45bfd61a40c8b9c5dea1ba1db916a31f6ef08e7aaad28e13a90ac57f4e5ddc56\n",
            "  Stored in directory: /root/.cache/pip/wheels/43/dc/11/ec201cd671da62fa9c5cc77078235e40722170ceba231d7598\n",
            "Successfully built pyspark\n",
            "Installing collected packages: py4j, pyspark\n",
            "Successfully installed py4j-0.10.9.5 pyspark-3.3.1\n"
          ]
        }
      ]
    },
    {
      "cell_type": "code",
      "source": [
        "import pyspark\n",
        "\n",
        "sc = pyspark.SparkContext()\n",
        "sc.parallelize([1, 2, 3, 4]).sum()\n"
      ],
      "metadata": {
        "colab": {
          "base_uri": "https://localhost:8080/"
        },
        "id": "f4dffFgPIBFg",
        "outputId": "49683aa2-58fd-4ac0-a5c2-c937ef5d50b1"
      },
      "execution_count": 3,
      "outputs": [
        {
          "output_type": "execute_result",
          "data": {
            "text/plain": [
              "10"
            ]
          },
          "metadata": {},
          "execution_count": 3
        }
      ]
    },
    {
      "cell_type": "code",
      "source": [
        "from pyspark.sql import SparkSession\n",
        "spark = SparkSession.builder.appName('CustomerChurnPrediction').getOrCreate()"
      ],
      "metadata": {
        "id": "uibWLpNKIVok"
      },
      "execution_count": 4,
      "outputs": []
    },
    {
      "cell_type": "code",
      "source": [
        "spark"
      ],
      "metadata": {
        "id": "lpPLvD6MIzYL",
        "colab": {
          "base_uri": "https://localhost:8080/",
          "height": 219
        },
        "outputId": "f989c5b2-c6ee-4e88-8b57-1d0aee1fe4c6"
      },
      "execution_count": 5,
      "outputs": [
        {
          "output_type": "execute_result",
          "data": {
            "text/plain": [
              "<pyspark.sql.session.SparkSession at 0x7f969e9d0610>"
            ],
            "text/html": [
              "\n",
              "            <div>\n",
              "                <p><b>SparkSession - in-memory</b></p>\n",
              "                \n",
              "        <div>\n",
              "            <p><b>SparkContext</b></p>\n",
              "\n",
              "            <p><a href=\"http://34b36fc594db:4040\">Spark UI</a></p>\n",
              "\n",
              "            <dl>\n",
              "              <dt>Version</dt>\n",
              "                <dd><code>v3.3.1</code></dd>\n",
              "              <dt>Master</dt>\n",
              "                <dd><code>local[*]</code></dd>\n",
              "              <dt>AppName</dt>\n",
              "                <dd><code>pyspark-shell</code></dd>\n",
              "            </dl>\n",
              "        </div>\n",
              "        \n",
              "            </div>\n",
              "        "
            ]
          },
          "metadata": {},
          "execution_count": 5
        }
      ]
    },
    {
      "cell_type": "code",
      "source": [
        "df = spark.read.csv(\"/content/CustomerChurn1.csv\", header=True, inferSchema=True)\n",
        "df.show(5)"
      ],
      "metadata": {
        "id": "cynzBSQzI00N",
        "colab": {
          "base_uri": "https://localhost:8080/"
        },
        "outputId": "89a5657d-46ef-4983-83ec-47540f75a875"
      },
      "execution_count": 52,
      "outputs": [
        {
          "output_type": "stream",
          "name": "stdout",
          "text": [
            "+---------+-----------+--------------+-------+----------+------+-------------+----------------+----------------+---------------+-------------+-----------------+------------+------------+----------------+--------------+-----------------+--------------------+---------------+-------------+-----+\n",
            "|LoyaltyID|Customer ID|Senior Citizen|Partner|Dependents|Tenure|Phone Service|  Multiple Lines|Internet Service|Online Security|Online Backup|Device Protection|Tech Support|Streaming TV|Streaming Movies|      Contract|Paperless Billing|      Payment Method|Monthly Charges|Total Charges|Churn|\n",
            "+---------+-----------+--------------+-------+----------+------+-------------+----------------+----------------+---------------+-------------+-----------------+------------+------------+----------------+--------------+-----------------+--------------------+---------------+-------------+-----+\n",
            "|   318537| 7590-VHVEG|            No|    Yes|        No|     1|           No|No phone service|             DSL|             No|          Yes|               No|          No|          No|              No|Month-to-month|              Yes|    Electronic check|          29.85|        29.85|   No|\n",
            "|   152148| 5575-GNVDE|            No|     No|        No|    34|          Yes|              No|             DSL|            Yes|           No|              Yes|          No|          No|              No|      One year|               No|        Mailed check|          56.95|       1889.5|   No|\n",
            "|   326527| 3668-QPYBK|            No|     No|        No|     2|          Yes|              No|             DSL|            Yes|          Yes|               No|          No|          No|              No|Month-to-month|              Yes|        Mailed check|          53.85|       108.15|  Yes|\n",
            "|   845894| 7795-CFOCW|            No|     No|        No|    45|           No|No phone service|             DSL|            Yes|           No|              Yes|         Yes|          No|              No|      One year|               No|Bank transfer (au...|           42.3|      1840.75|   No|\n",
            "|   503388| 9237-HQITU|            No|     No|        No|     2|          Yes|              No|     Fiber optic|             No|           No|               No|          No|          No|              No|Month-to-month|              Yes|    Electronic check|           70.7|       151.65|  Yes|\n",
            "+---------+-----------+--------------+-------+----------+------+-------------+----------------+----------------+---------------+-------------+-----------------+------------+------------+----------------+--------------+-----------------+--------------------+---------------+-------------+-----+\n",
            "only showing top 5 rows\n",
            "\n"
          ]
        }
      ]
    },
    {
      "cell_type": "code",
      "source": [
        "df.printSchema()"
      ],
      "metadata": {
        "id": "raVTiDSBJM2e",
        "colab": {
          "base_uri": "https://localhost:8080/"
        },
        "outputId": "21b25425-777a-4962-8b64-85db4bd4c649"
      },
      "execution_count": 53,
      "outputs": [
        {
          "output_type": "stream",
          "name": "stdout",
          "text": [
            "root\n",
            " |-- LoyaltyID: integer (nullable = true)\n",
            " |-- Customer ID: string (nullable = true)\n",
            " |-- Senior Citizen: string (nullable = true)\n",
            " |-- Partner: string (nullable = true)\n",
            " |-- Dependents: string (nullable = true)\n",
            " |-- Tenure: integer (nullable = true)\n",
            " |-- Phone Service: string (nullable = true)\n",
            " |-- Multiple Lines: string (nullable = true)\n",
            " |-- Internet Service: string (nullable = true)\n",
            " |-- Online Security: string (nullable = true)\n",
            " |-- Online Backup: string (nullable = true)\n",
            " |-- Device Protection: string (nullable = true)\n",
            " |-- Tech Support: string (nullable = true)\n",
            " |-- Streaming TV: string (nullable = true)\n",
            " |-- Streaming Movies: string (nullable = true)\n",
            " |-- Contract: string (nullable = true)\n",
            " |-- Paperless Billing: string (nullable = true)\n",
            " |-- Payment Method: string (nullable = true)\n",
            " |-- Monthly Charges: double (nullable = true)\n",
            " |-- Total Charges: string (nullable = true)\n",
            " |-- Churn: string (nullable = true)\n",
            "\n"
          ]
        }
      ]
    },
    {
      "cell_type": "code",
      "source": [
        "from pyspark.sql.functions import count, when, isnan, col\n",
        "df.select([count(when(isnan(c) | col(c).isNull(), c)).alias(c) for c in df.columns]).show()"
      ],
      "metadata": {
        "id": "2KKhmc88JRB3",
        "colab": {
          "base_uri": "https://localhost:8080/"
        },
        "outputId": "36431ed3-8c4d-40e7-8425-909cd7458571"
      },
      "execution_count": 54,
      "outputs": [
        {
          "output_type": "stream",
          "name": "stdout",
          "text": [
            "+---------+-----------+--------------+-------+----------+------+-------------+--------------+----------------+---------------+-------------+-----------------+------------+------------+----------------+--------+-----------------+--------------+---------------+-------------+-----+\n",
            "|LoyaltyID|Customer ID|Senior Citizen|Partner|Dependents|Tenure|Phone Service|Multiple Lines|Internet Service|Online Security|Online Backup|Device Protection|Tech Support|Streaming TV|Streaming Movies|Contract|Paperless Billing|Payment Method|Monthly Charges|Total Charges|Churn|\n",
            "+---------+-----------+--------------+-------+----------+------+-------------+--------------+----------------+---------------+-------------+-----------------+------------+------------+----------------+--------+-----------------+--------------+---------------+-------------+-----+\n",
            "|        0|          0|             0|      0|         0|     0|            0|             0|               0|              0|            0|                0|           0|           0|               0|       0|                0|             0|              0|            9|    0|\n",
            "+---------+-----------+--------------+-------+----------+------+-------------+--------------+----------------+---------------+-------------+-----------------+------------+------------+----------------+--------+-----------------+--------------+---------------+-------------+-----+\n",
            "\n"
          ]
        }
      ]
    },
    {
      "cell_type": "code",
      "source": [
        "from pyspark.sql.functions import mean\n",
        "mean_val = df.select(mean(df['Total Charges'])).collect()[0][0]\n",
        "df = df.na.fill({'Total Charges': mean_val})"
      ],
      "metadata": {
        "id": "nK-qr2-JNAZE"
      },
      "execution_count": 55,
      "outputs": []
    },
    {
      "cell_type": "code",
      "source": [
        "from pyspark.ml.feature import StringIndexer, OneHotEncoder\n",
        "\n",
        "categorical_columns = ['Senior Citizen', 'Partner', 'Dependents', 'Phone Service', 'Multiple Lines', 'Internet Service', 'Online Security', 'Online Backup', 'Device Protection', 'Tech Support', 'Streaming TV', 'Streaming Movies', 'Contract', 'Paperless Billing', 'Payment Method', 'Total Charges', 'Churn']"
      ],
      "metadata": {
        "id": "6CrpqHCoSCdN"
      },
      "execution_count": 56,
      "outputs": []
    },
    {
      "cell_type": "code",
      "source": [
        "indexers = [StringIndexer(inputCol=column, outputCol=column+\"_index\") for column in categorical_columns]\n",
        "\n",
        "encoders = [OneHotEncoder(inputCol=indexer.getOutputCol(), outputCol=indexer.getOutputCol()+\"_encoded\") for indexer in indexers]"
      ],
      "metadata": {
        "id": "NyYRZJTVMe9p"
      },
      "execution_count": 57,
      "outputs": []
    },
    {
      "cell_type": "code",
      "source": [
        "from pyspark.ml import Pipeline\n",
        "pipeline = Pipeline(stages = indexers+encoders)\n",
        "\n",
        "df_transformed = pipeline.fit(df).transform(df)"
      ],
      "metadata": {
        "id": "I3_YMQGANx05"
      },
      "execution_count": 58,
      "outputs": []
    },
    {
      "cell_type": "code",
      "source": [
        "categorical_columns1 = ['Senior Citizen', 'Partner', 'Dependents', 'Phone Service', 'Multiple Lines', 'Internet Service', 'Online Security', 'Online Backup', 'Device Protection', 'Tech Support', 'Streaming TV', 'Streaming Movies', 'Contract', 'Paperless Billing', 'Payment Method', 'Total Charges']\n",
        "for column in categorical_columns1:\n",
        "  df_transformed=df_transformed.drop(column)"
      ],
      "metadata": {
        "id": "qYIxcla4Tk1U"
      },
      "execution_count": 59,
      "outputs": []
    },
    {
      "cell_type": "code",
      "source": [
        "df_transformed.show()"
      ],
      "metadata": {
        "colab": {
          "base_uri": "https://localhost:8080/"
        },
        "id": "UOZ8RBJC_9VN",
        "outputId": "94db4447-7b32-4f0e-9c78-5883048ce7e8"
      },
      "execution_count": 60,
      "outputs": [
        {
          "output_type": "stream",
          "name": "stdout",
          "text": [
            "+---------+-----------+------+---------------+-----+--------------------+-------------+----------------+-------------------+--------------------+----------------------+---------------------+-------------------+-----------------------+------------------+------------------+----------------------+--------------+-----------------------+--------------------+-------------------+-----------+----------------------------+---------------------+------------------------+---------------------------+----------------------------+------------------------------+-----------------------------+---------------------------+-------------------------------+--------------------------+--------------------------+------------------------------+----------------------+-------------------------------+----------------------------+---------------------------+-------------------+\n",
            "|LoyaltyID|Customer ID|Tenure|Monthly Charges|Churn|Senior Citizen_index|Partner_index|Dependents_index|Phone Service_index|Multiple Lines_index|Internet Service_index|Online Security_index|Online Backup_index|Device Protection_index|Tech Support_index|Streaming TV_index|Streaming Movies_index|Contract_index|Paperless Billing_index|Payment Method_index|Total Charges_index|Churn_index|Senior Citizen_index_encoded|Partner_index_encoded|Dependents_index_encoded|Phone Service_index_encoded|Multiple Lines_index_encoded|Internet Service_index_encoded|Online Security_index_encoded|Online Backup_index_encoded|Device Protection_index_encoded|Tech Support_index_encoded|Streaming TV_index_encoded|Streaming Movies_index_encoded|Contract_index_encoded|Paperless Billing_index_encoded|Payment Method_index_encoded|Total Charges_index_encoded|Churn_index_encoded|\n",
            "+---------+-----------+------+---------------+-----+--------------------+-------------+----------------+-------------------+--------------------+----------------------+---------------------+-------------------+-----------------------+------------------+------------------+----------------------+--------------+-----------------------+--------------------+-------------------+-----------+----------------------------+---------------------+------------------------+---------------------------+----------------------------+------------------------------+-----------------------------+---------------------------+-------------------------------+--------------------------+--------------------------+------------------------------+----------------------+-------------------------------+----------------------------+---------------------------+-------------------+\n",
            "|   318537| 7590-VHVEG|     1|          29.85|   No|                 0.0|          1.0|             0.0|                1.0|                 2.0|                   1.0|                  0.0|                1.0|                    0.0|               0.0|               0.0|                   0.0|           0.0|                    0.0|                 0.0|             2715.0|        0.0|               (1,[0],[1.0])|            (1,[],[])|           (1,[0],[1.0])|                  (1,[],[])|                   (2,[],[])|                 (2,[1],[1.0])|                (2,[0],[1.0])|              (2,[1],[1.0])|                  (2,[0],[1.0])|             (2,[0],[1.0])|             (2,[0],[1.0])|                 (2,[0],[1.0])|         (2,[0],[1.0])|                  (1,[0],[1.0])|               (3,[0],[1.0])|        (6523,[2715],[1.0])|      (1,[0],[1.0])|\n",
            "|   152148| 5575-GNVDE|    34|          56.95|   No|                 0.0|          0.0|             0.0|                0.0|                 0.0|                   1.0|                  1.0|                0.0|                    1.0|               0.0|               0.0|                   0.0|           2.0|                    1.0|                 1.0|             1760.0|        0.0|               (1,[0],[1.0])|        (1,[0],[1.0])|           (1,[0],[1.0])|              (1,[0],[1.0])|               (2,[0],[1.0])|                 (2,[1],[1.0])|                (2,[1],[1.0])|              (2,[0],[1.0])|                  (2,[1],[1.0])|             (2,[0],[1.0])|             (2,[0],[1.0])|                 (2,[0],[1.0])|             (2,[],[])|                      (1,[],[])|               (3,[1],[1.0])|        (6523,[1760],[1.0])|      (1,[0],[1.0])|\n",
            "|   326527| 3668-QPYBK|     2|          53.85|  Yes|                 0.0|          0.0|             0.0|                0.0|                 0.0|                   1.0|                  1.0|                1.0|                    0.0|               0.0|               0.0|                   0.0|           0.0|                    0.0|                 1.0|              508.0|        1.0|               (1,[0],[1.0])|        (1,[0],[1.0])|           (1,[0],[1.0])|              (1,[0],[1.0])|               (2,[0],[1.0])|                 (2,[1],[1.0])|                (2,[1],[1.0])|              (2,[1],[1.0])|                  (2,[0],[1.0])|             (2,[0],[1.0])|             (2,[0],[1.0])|                 (2,[0],[1.0])|         (2,[0],[1.0])|                  (1,[0],[1.0])|               (3,[1],[1.0])|         (6523,[508],[1.0])|          (1,[],[])|\n",
            "|   845894| 7795-CFOCW|    45|           42.3|   No|                 0.0|          0.0|             0.0|                1.0|                 2.0|                   1.0|                  1.0|                0.0|                    1.0|               1.0|               0.0|                   0.0|           2.0|                    1.0|                 2.0|             1696.0|        0.0|               (1,[0],[1.0])|        (1,[0],[1.0])|           (1,[0],[1.0])|                  (1,[],[])|                   (2,[],[])|                 (2,[1],[1.0])|                (2,[1],[1.0])|              (2,[0],[1.0])|                  (2,[1],[1.0])|             (2,[1],[1.0])|             (2,[0],[1.0])|                 (2,[0],[1.0])|             (2,[],[])|                      (1,[],[])|               (3,[2],[1.0])|        (6523,[1696],[1.0])|      (1,[0],[1.0])|\n",
            "|   503388| 9237-HQITU|     2|           70.7|  Yes|                 0.0|          0.0|             0.0|                0.0|                 0.0|                   0.0|                  0.0|                0.0|                    0.0|               0.0|               0.0|                   0.0|           0.0|                    0.0|                 0.0|             1243.0|        1.0|               (1,[0],[1.0])|        (1,[0],[1.0])|           (1,[0],[1.0])|              (1,[0],[1.0])|               (2,[0],[1.0])|                 (2,[0],[1.0])|                (2,[0],[1.0])|              (2,[0],[1.0])|                  (2,[0],[1.0])|             (2,[0],[1.0])|             (2,[0],[1.0])|                 (2,[0],[1.0])|         (2,[0],[1.0])|                  (1,[0],[1.0])|               (3,[0],[1.0])|        (6523,[1243],[1.0])|          (1,[],[])|\n",
            "|   160192| 9305-CDSKC|     8|          99.65|  Yes|                 0.0|          0.0|             0.0|                0.0|                 1.0|                   0.0|                  0.0|                0.0|                    1.0|               0.0|               1.0|                   1.0|           0.0|                    0.0|                 0.0|             6132.0|        1.0|               (1,[0],[1.0])|        (1,[0],[1.0])|           (1,[0],[1.0])|              (1,[0],[1.0])|               (2,[1],[1.0])|                 (2,[0],[1.0])|                (2,[0],[1.0])|              (2,[0],[1.0])|                  (2,[1],[1.0])|             (2,[0],[1.0])|             (2,[1],[1.0])|                 (2,[1],[1.0])|         (2,[0],[1.0])|                  (1,[0],[1.0])|               (3,[0],[1.0])|        (6523,[6132],[1.0])|          (1,[],[])|\n",
            "|   680623| 1452-KIOVK|    22|           89.1|   No|                 0.0|          0.0|             1.0|                0.0|                 1.0|                   0.0|                  0.0|                1.0|                    0.0|               0.0|               1.0|                   0.0|           0.0|                    0.0|                 3.0|             1826.0|        0.0|               (1,[0],[1.0])|        (1,[0],[1.0])|               (1,[],[])|              (1,[0],[1.0])|               (2,[1],[1.0])|                 (2,[0],[1.0])|                (2,[0],[1.0])|              (2,[1],[1.0])|                  (2,[0],[1.0])|             (2,[0],[1.0])|             (2,[1],[1.0])|                 (2,[0],[1.0])|         (2,[0],[1.0])|                  (1,[0],[1.0])|                   (3,[],[])|        (6523,[1826],[1.0])|      (1,[0],[1.0])|\n",
            "|   340874| 6713-OKOMC|    10|          29.75|   No|                 0.0|          0.0|             0.0|                1.0|                 2.0|                   1.0|                  1.0|                0.0|                    0.0|               0.0|               0.0|                   0.0|           0.0|                    1.0|                 1.0|             2816.0|        0.0|               (1,[0],[1.0])|        (1,[0],[1.0])|           (1,[0],[1.0])|                  (1,[],[])|                   (2,[],[])|                 (2,[1],[1.0])|                (2,[1],[1.0])|              (2,[0],[1.0])|                  (2,[0],[1.0])|             (2,[0],[1.0])|             (2,[0],[1.0])|                 (2,[0],[1.0])|         (2,[0],[1.0])|                      (1,[],[])|               (3,[1],[1.0])|        (6523,[2816],[1.0])|      (1,[0],[1.0])|\n",
            "|   582674| 7892-POOKP|    28|          104.8|  Yes|                 0.0|          1.0|             0.0|                0.0|                 1.0|                   0.0|                  0.0|                0.0|                    1.0|               1.0|               1.0|                   1.0|           0.0|                    0.0|                 0.0|             2853.0|        1.0|               (1,[0],[1.0])|            (1,[],[])|           (1,[0],[1.0])|              (1,[0],[1.0])|               (2,[1],[1.0])|                 (2,[0],[1.0])|                (2,[0],[1.0])|              (2,[0],[1.0])|                  (2,[1],[1.0])|             (2,[1],[1.0])|             (2,[1],[1.0])|                 (2,[1],[1.0])|         (2,[0],[1.0])|                  (1,[0],[1.0])|               (3,[0],[1.0])|        (6523,[2853],[1.0])|          (1,[],[])|\n",
            "|   303784| 6388-TABGU|    62|          56.15|   No|                 0.0|          0.0|             1.0|                0.0|                 0.0|                   1.0|                  1.0|                1.0|                    0.0|               0.0|               0.0|                   0.0|           2.0|                    1.0|                 2.0|             3213.0|        0.0|               (1,[0],[1.0])|        (1,[0],[1.0])|               (1,[],[])|              (1,[0],[1.0])|               (2,[0],[1.0])|                 (2,[1],[1.0])|                (2,[1],[1.0])|              (2,[1],[1.0])|                  (2,[0],[1.0])|             (2,[0],[1.0])|             (2,[0],[1.0])|                 (2,[0],[1.0])|             (2,[],[])|                      (1,[],[])|               (3,[2],[1.0])|        (6523,[3213],[1.0])|      (1,[0],[1.0])|\n",
            "|   925283| 9763-GRSKD|    13|          49.95|   No|                 0.0|          1.0|             1.0|                0.0|                 0.0|                   1.0|                  1.0|                0.0|                    0.0|               0.0|               0.0|                   0.0|           0.0|                    0.0|                 1.0|             4919.0|        0.0|               (1,[0],[1.0])|            (1,[],[])|               (1,[],[])|              (1,[0],[1.0])|               (2,[0],[1.0])|                 (2,[1],[1.0])|                (2,[1],[1.0])|              (2,[0],[1.0])|                  (2,[0],[1.0])|             (2,[0],[1.0])|             (2,[0],[1.0])|                 (2,[0],[1.0])|         (2,[0],[1.0])|                  (1,[0],[1.0])|               (3,[1],[1.0])|        (6523,[4919],[1.0])|      (1,[0],[1.0])|\n",
            "|   185808| 7469-LKBCI|    16|          18.95|   No|                 0.0|          0.0|             0.0|                0.0|                 0.0|                   2.0|                  2.0|                2.0|                    2.0|               2.0|               2.0|                   2.0|           1.0|                    1.0|                 3.0|             3037.0|        0.0|               (1,[0],[1.0])|        (1,[0],[1.0])|           (1,[0],[1.0])|              (1,[0],[1.0])|               (2,[0],[1.0])|                     (2,[],[])|                    (2,[],[])|                  (2,[],[])|                      (2,[],[])|                 (2,[],[])|                 (2,[],[])|                     (2,[],[])|         (2,[1],[1.0])|                      (1,[],[])|                   (3,[],[])|        (6523,[3037],[1.0])|      (1,[0],[1.0])|\n",
            "|   158680| 8091-TTVAX|    58|         100.35|   No|                 0.0|          1.0|             0.0|                0.0|                 1.0|                   0.0|                  0.0|                0.0|                    1.0|               0.0|               1.0|                   1.0|           2.0|                    1.0|                 3.0|             4796.0|        0.0|               (1,[0],[1.0])|            (1,[],[])|           (1,[0],[1.0])|              (1,[0],[1.0])|               (2,[1],[1.0])|                 (2,[0],[1.0])|                (2,[0],[1.0])|              (2,[0],[1.0])|                  (2,[1],[1.0])|             (2,[0],[1.0])|             (2,[1],[1.0])|                 (2,[1],[1.0])|             (2,[],[])|                      (1,[],[])|                   (3,[],[])|        (6523,[4796],[1.0])|      (1,[0],[1.0])|\n",
            "|   933642| 0280-XJGEX|    49|          103.7|  Yes|                 0.0|          0.0|             0.0|                0.0|                 1.0|                   0.0|                  0.0|                1.0|                    1.0|               0.0|               1.0|                   1.0|           0.0|                    0.0|                 2.0|             4383.0|        1.0|               (1,[0],[1.0])|        (1,[0],[1.0])|           (1,[0],[1.0])|              (1,[0],[1.0])|               (2,[1],[1.0])|                 (2,[0],[1.0])|                (2,[0],[1.0])|              (2,[1],[1.0])|                  (2,[1],[1.0])|             (2,[0],[1.0])|             (2,[1],[1.0])|                 (2,[1],[1.0])|         (2,[0],[1.0])|                  (1,[0],[1.0])|               (3,[2],[1.0])|        (6523,[4383],[1.0])|          (1,[],[])|\n",
            "|   529260| 5129-JLPIS|    25|          105.5|   No|                 0.0|          0.0|             0.0|                0.0|                 0.0|                   0.0|                  1.0|                0.0|                    1.0|               1.0|               1.0|                   1.0|           0.0|                    0.0|                 0.0|             2551.0|        0.0|               (1,[0],[1.0])|        (1,[0],[1.0])|           (1,[0],[1.0])|              (1,[0],[1.0])|               (2,[0],[1.0])|                 (2,[0],[1.0])|                (2,[1],[1.0])|              (2,[0],[1.0])|                  (2,[1],[1.0])|             (2,[1],[1.0])|             (2,[1],[1.0])|                 (2,[1],[1.0])|         (2,[0],[1.0])|                  (1,[0],[1.0])|               (3,[0],[1.0])|        (6523,[2551],[1.0])|      (1,[0],[1.0])|\n",
            "|   663513| 3655-SNQYZ|    69|         113.25|   No|                 0.0|          1.0|             1.0|                0.0|                 1.0|                   0.0|                  1.0|                1.0|                    1.0|               1.0|               1.0|                   1.0|           1.0|                    1.0|                 3.0|             5995.0|        0.0|               (1,[0],[1.0])|            (1,[],[])|               (1,[],[])|              (1,[0],[1.0])|               (2,[1],[1.0])|                 (2,[0],[1.0])|                (2,[1],[1.0])|              (2,[1],[1.0])|                  (2,[1],[1.0])|             (2,[1],[1.0])|             (2,[1],[1.0])|                 (2,[1],[1.0])|         (2,[1],[1.0])|                      (1,[],[])|                   (3,[],[])|        (6523,[5995],[1.0])|      (1,[0],[1.0])|\n",
            "|   698246| 8191-XWSZG|    52|          20.65|   No|                 0.0|          0.0|             0.0|                0.0|                 0.0|                   2.0|                  2.0|                2.0|                    2.0|               2.0|               2.0|                   2.0|           2.0|                    1.0|                 1.0|              403.0|        0.0|               (1,[0],[1.0])|        (1,[0],[1.0])|           (1,[0],[1.0])|              (1,[0],[1.0])|               (2,[0],[1.0])|                     (2,[],[])|                    (2,[],[])|                  (2,[],[])|                      (2,[],[])|                 (2,[],[])|                 (2,[],[])|                     (2,[],[])|             (2,[],[])|                      (1,[],[])|               (3,[1],[1.0])|         (6523,[403],[1.0])|      (1,[0],[1.0])|\n",
            "|   359335| 9959-WOFKT|    71|          106.7|   No|                 0.0|          0.0|             1.0|                0.0|                 1.0|                   0.0|                  1.0|                0.0|                    1.0|               0.0|               1.0|                   1.0|           1.0|                    1.0|                 2.0|             5758.0|        0.0|               (1,[0],[1.0])|        (1,[0],[1.0])|               (1,[],[])|              (1,[0],[1.0])|               (2,[1],[1.0])|                 (2,[0],[1.0])|                (2,[1],[1.0])|              (2,[0],[1.0])|                  (2,[1],[1.0])|             (2,[0],[1.0])|             (2,[1],[1.0])|                 (2,[1],[1.0])|         (2,[1],[1.0])|                      (1,[],[])|               (3,[2],[1.0])|        (6523,[5758],[1.0])|      (1,[0],[1.0])|\n",
            "|   587516| 4190-MFLUW|    10|           55.2|  Yes|                 0.0|          1.0|             1.0|                0.0|                 0.0|                   1.0|                  0.0|                0.0|                    1.0|               1.0|               0.0|                   0.0|           0.0|                    1.0|                 3.0|                3.0|        1.0|               (1,[0],[1.0])|            (1,[],[])|               (1,[],[])|              (1,[0],[1.0])|               (2,[0],[1.0])|                 (2,[1],[1.0])|                (2,[0],[1.0])|              (2,[0],[1.0])|                  (2,[1],[1.0])|             (2,[1],[1.0])|             (2,[0],[1.0])|                 (2,[0],[1.0])|         (2,[0],[1.0])|                      (1,[],[])|                   (3,[],[])|           (6523,[3],[1.0])|          (1,[],[])|\n",
            "|   584979| 4183-MYFRB|    21|          90.05|   No|                 0.0|          0.0|             0.0|                0.0|                 0.0|                   0.0|                  0.0|                1.0|                    1.0|               0.0|               0.0|                   1.0|           0.0|                    0.0|                 0.0|             1729.0|        0.0|               (1,[0],[1.0])|        (1,[0],[1.0])|           (1,[0],[1.0])|              (1,[0],[1.0])|               (2,[0],[1.0])|                 (2,[0],[1.0])|                (2,[0],[1.0])|              (2,[1],[1.0])|                  (2,[1],[1.0])|             (2,[0],[1.0])|             (2,[0],[1.0])|                 (2,[1],[1.0])|         (2,[0],[1.0])|                  (1,[0],[1.0])|               (3,[0],[1.0])|        (6523,[1729],[1.0])|      (1,[0],[1.0])|\n",
            "+---------+-----------+------+---------------+-----+--------------------+-------------+----------------+-------------------+--------------------+----------------------+---------------------+-------------------+-----------------------+------------------+------------------+----------------------+--------------+-----------------------+--------------------+-------------------+-----------+----------------------------+---------------------+------------------------+---------------------------+----------------------------+------------------------------+-----------------------------+---------------------------+-------------------------------+--------------------------+--------------------------+------------------------------+----------------------+-------------------------------+----------------------------+---------------------------+-------------------+\n",
            "only showing top 20 rows\n",
            "\n"
          ]
        }
      ]
    },
    {
      "cell_type": "code",
      "source": [
        "# Rename the indexed and encoded columns\n",
        "for indexer,encoder in zip(indexers, encoders):\n",
        "  column = indexer.getInputCol()\n",
        "  df_transformed=df_transformed.withColumnRenamed(indexer.getOutputCol()+\"_encoded\", column+\"_encoded\")"
      ],
      "metadata": {
        "id": "m6AzW52ET3bS"
      },
      "execution_count": 61,
      "outputs": []
    },
    {
      "cell_type": "code",
      "source": [
        "df_transformed.show()"
      ],
      "metadata": {
        "id": "sJjxzrg1WVYj",
        "colab": {
          "base_uri": "https://localhost:8080/"
        },
        "outputId": "022a55d0-9f72-4500-94eb-9d4c4f87c567"
      },
      "execution_count": 62,
      "outputs": [
        {
          "output_type": "stream",
          "name": "stdout",
          "text": [
            "+---------+-----------+------+---------------+-----+--------------------+-------------+----------------+-------------------+--------------------+----------------------+---------------------+-------------------+-----------------------+------------------+------------------+----------------------+--------------+-----------------------+--------------------+-------------------+-----------+----------------------+---------------+------------------+---------------------+----------------------+------------------------+-----------------------+---------------------+-------------------------+--------------------+--------------------+------------------------+----------------+-------------------------+----------------------+---------------------+-------------+\n",
            "|LoyaltyID|Customer ID|Tenure|Monthly Charges|Churn|Senior Citizen_index|Partner_index|Dependents_index|Phone Service_index|Multiple Lines_index|Internet Service_index|Online Security_index|Online Backup_index|Device Protection_index|Tech Support_index|Streaming TV_index|Streaming Movies_index|Contract_index|Paperless Billing_index|Payment Method_index|Total Charges_index|Churn_index|Senior Citizen_encoded|Partner_encoded|Dependents_encoded|Phone Service_encoded|Multiple Lines_encoded|Internet Service_encoded|Online Security_encoded|Online Backup_encoded|Device Protection_encoded|Tech Support_encoded|Streaming TV_encoded|Streaming Movies_encoded|Contract_encoded|Paperless Billing_encoded|Payment Method_encoded|Total Charges_encoded|Churn_encoded|\n",
            "+---------+-----------+------+---------------+-----+--------------------+-------------+----------------+-------------------+--------------------+----------------------+---------------------+-------------------+-----------------------+------------------+------------------+----------------------+--------------+-----------------------+--------------------+-------------------+-----------+----------------------+---------------+------------------+---------------------+----------------------+------------------------+-----------------------+---------------------+-------------------------+--------------------+--------------------+------------------------+----------------+-------------------------+----------------------+---------------------+-------------+\n",
            "|   318537| 7590-VHVEG|     1|          29.85|   No|                 0.0|          1.0|             0.0|                1.0|                 2.0|                   1.0|                  0.0|                1.0|                    0.0|               0.0|               0.0|                   0.0|           0.0|                    0.0|                 0.0|             2715.0|        0.0|         (1,[0],[1.0])|      (1,[],[])|     (1,[0],[1.0])|            (1,[],[])|             (2,[],[])|           (2,[1],[1.0])|          (2,[0],[1.0])|        (2,[1],[1.0])|            (2,[0],[1.0])|       (2,[0],[1.0])|       (2,[0],[1.0])|           (2,[0],[1.0])|   (2,[0],[1.0])|            (1,[0],[1.0])|         (3,[0],[1.0])|  (6523,[2715],[1.0])|(1,[0],[1.0])|\n",
            "|   152148| 5575-GNVDE|    34|          56.95|   No|                 0.0|          0.0|             0.0|                0.0|                 0.0|                   1.0|                  1.0|                0.0|                    1.0|               0.0|               0.0|                   0.0|           2.0|                    1.0|                 1.0|             1760.0|        0.0|         (1,[0],[1.0])|  (1,[0],[1.0])|     (1,[0],[1.0])|        (1,[0],[1.0])|         (2,[0],[1.0])|           (2,[1],[1.0])|          (2,[1],[1.0])|        (2,[0],[1.0])|            (2,[1],[1.0])|       (2,[0],[1.0])|       (2,[0],[1.0])|           (2,[0],[1.0])|       (2,[],[])|                (1,[],[])|         (3,[1],[1.0])|  (6523,[1760],[1.0])|(1,[0],[1.0])|\n",
            "|   326527| 3668-QPYBK|     2|          53.85|  Yes|                 0.0|          0.0|             0.0|                0.0|                 0.0|                   1.0|                  1.0|                1.0|                    0.0|               0.0|               0.0|                   0.0|           0.0|                    0.0|                 1.0|              508.0|        1.0|         (1,[0],[1.0])|  (1,[0],[1.0])|     (1,[0],[1.0])|        (1,[0],[1.0])|         (2,[0],[1.0])|           (2,[1],[1.0])|          (2,[1],[1.0])|        (2,[1],[1.0])|            (2,[0],[1.0])|       (2,[0],[1.0])|       (2,[0],[1.0])|           (2,[0],[1.0])|   (2,[0],[1.0])|            (1,[0],[1.0])|         (3,[1],[1.0])|   (6523,[508],[1.0])|    (1,[],[])|\n",
            "|   845894| 7795-CFOCW|    45|           42.3|   No|                 0.0|          0.0|             0.0|                1.0|                 2.0|                   1.0|                  1.0|                0.0|                    1.0|               1.0|               0.0|                   0.0|           2.0|                    1.0|                 2.0|             1696.0|        0.0|         (1,[0],[1.0])|  (1,[0],[1.0])|     (1,[0],[1.0])|            (1,[],[])|             (2,[],[])|           (2,[1],[1.0])|          (2,[1],[1.0])|        (2,[0],[1.0])|            (2,[1],[1.0])|       (2,[1],[1.0])|       (2,[0],[1.0])|           (2,[0],[1.0])|       (2,[],[])|                (1,[],[])|         (3,[2],[1.0])|  (6523,[1696],[1.0])|(1,[0],[1.0])|\n",
            "|   503388| 9237-HQITU|     2|           70.7|  Yes|                 0.0|          0.0|             0.0|                0.0|                 0.0|                   0.0|                  0.0|                0.0|                    0.0|               0.0|               0.0|                   0.0|           0.0|                    0.0|                 0.0|             1243.0|        1.0|         (1,[0],[1.0])|  (1,[0],[1.0])|     (1,[0],[1.0])|        (1,[0],[1.0])|         (2,[0],[1.0])|           (2,[0],[1.0])|          (2,[0],[1.0])|        (2,[0],[1.0])|            (2,[0],[1.0])|       (2,[0],[1.0])|       (2,[0],[1.0])|           (2,[0],[1.0])|   (2,[0],[1.0])|            (1,[0],[1.0])|         (3,[0],[1.0])|  (6523,[1243],[1.0])|    (1,[],[])|\n",
            "|   160192| 9305-CDSKC|     8|          99.65|  Yes|                 0.0|          0.0|             0.0|                0.0|                 1.0|                   0.0|                  0.0|                0.0|                    1.0|               0.0|               1.0|                   1.0|           0.0|                    0.0|                 0.0|             6132.0|        1.0|         (1,[0],[1.0])|  (1,[0],[1.0])|     (1,[0],[1.0])|        (1,[0],[1.0])|         (2,[1],[1.0])|           (2,[0],[1.0])|          (2,[0],[1.0])|        (2,[0],[1.0])|            (2,[1],[1.0])|       (2,[0],[1.0])|       (2,[1],[1.0])|           (2,[1],[1.0])|   (2,[0],[1.0])|            (1,[0],[1.0])|         (3,[0],[1.0])|  (6523,[6132],[1.0])|    (1,[],[])|\n",
            "|   680623| 1452-KIOVK|    22|           89.1|   No|                 0.0|          0.0|             1.0|                0.0|                 1.0|                   0.0|                  0.0|                1.0|                    0.0|               0.0|               1.0|                   0.0|           0.0|                    0.0|                 3.0|             1826.0|        0.0|         (1,[0],[1.0])|  (1,[0],[1.0])|         (1,[],[])|        (1,[0],[1.0])|         (2,[1],[1.0])|           (2,[0],[1.0])|          (2,[0],[1.0])|        (2,[1],[1.0])|            (2,[0],[1.0])|       (2,[0],[1.0])|       (2,[1],[1.0])|           (2,[0],[1.0])|   (2,[0],[1.0])|            (1,[0],[1.0])|             (3,[],[])|  (6523,[1826],[1.0])|(1,[0],[1.0])|\n",
            "|   340874| 6713-OKOMC|    10|          29.75|   No|                 0.0|          0.0|             0.0|                1.0|                 2.0|                   1.0|                  1.0|                0.0|                    0.0|               0.0|               0.0|                   0.0|           0.0|                    1.0|                 1.0|             2816.0|        0.0|         (1,[0],[1.0])|  (1,[0],[1.0])|     (1,[0],[1.0])|            (1,[],[])|             (2,[],[])|           (2,[1],[1.0])|          (2,[1],[1.0])|        (2,[0],[1.0])|            (2,[0],[1.0])|       (2,[0],[1.0])|       (2,[0],[1.0])|           (2,[0],[1.0])|   (2,[0],[1.0])|                (1,[],[])|         (3,[1],[1.0])|  (6523,[2816],[1.0])|(1,[0],[1.0])|\n",
            "|   582674| 7892-POOKP|    28|          104.8|  Yes|                 0.0|          1.0|             0.0|                0.0|                 1.0|                   0.0|                  0.0|                0.0|                    1.0|               1.0|               1.0|                   1.0|           0.0|                    0.0|                 0.0|             2853.0|        1.0|         (1,[0],[1.0])|      (1,[],[])|     (1,[0],[1.0])|        (1,[0],[1.0])|         (2,[1],[1.0])|           (2,[0],[1.0])|          (2,[0],[1.0])|        (2,[0],[1.0])|            (2,[1],[1.0])|       (2,[1],[1.0])|       (2,[1],[1.0])|           (2,[1],[1.0])|   (2,[0],[1.0])|            (1,[0],[1.0])|         (3,[0],[1.0])|  (6523,[2853],[1.0])|    (1,[],[])|\n",
            "|   303784| 6388-TABGU|    62|          56.15|   No|                 0.0|          0.0|             1.0|                0.0|                 0.0|                   1.0|                  1.0|                1.0|                    0.0|               0.0|               0.0|                   0.0|           2.0|                    1.0|                 2.0|             3213.0|        0.0|         (1,[0],[1.0])|  (1,[0],[1.0])|         (1,[],[])|        (1,[0],[1.0])|         (2,[0],[1.0])|           (2,[1],[1.0])|          (2,[1],[1.0])|        (2,[1],[1.0])|            (2,[0],[1.0])|       (2,[0],[1.0])|       (2,[0],[1.0])|           (2,[0],[1.0])|       (2,[],[])|                (1,[],[])|         (3,[2],[1.0])|  (6523,[3213],[1.0])|(1,[0],[1.0])|\n",
            "|   925283| 9763-GRSKD|    13|          49.95|   No|                 0.0|          1.0|             1.0|                0.0|                 0.0|                   1.0|                  1.0|                0.0|                    0.0|               0.0|               0.0|                   0.0|           0.0|                    0.0|                 1.0|             4919.0|        0.0|         (1,[0],[1.0])|      (1,[],[])|         (1,[],[])|        (1,[0],[1.0])|         (2,[0],[1.0])|           (2,[1],[1.0])|          (2,[1],[1.0])|        (2,[0],[1.0])|            (2,[0],[1.0])|       (2,[0],[1.0])|       (2,[0],[1.0])|           (2,[0],[1.0])|   (2,[0],[1.0])|            (1,[0],[1.0])|         (3,[1],[1.0])|  (6523,[4919],[1.0])|(1,[0],[1.0])|\n",
            "|   185808| 7469-LKBCI|    16|          18.95|   No|                 0.0|          0.0|             0.0|                0.0|                 0.0|                   2.0|                  2.0|                2.0|                    2.0|               2.0|               2.0|                   2.0|           1.0|                    1.0|                 3.0|             3037.0|        0.0|         (1,[0],[1.0])|  (1,[0],[1.0])|     (1,[0],[1.0])|        (1,[0],[1.0])|         (2,[0],[1.0])|               (2,[],[])|              (2,[],[])|            (2,[],[])|                (2,[],[])|           (2,[],[])|           (2,[],[])|               (2,[],[])|   (2,[1],[1.0])|                (1,[],[])|             (3,[],[])|  (6523,[3037],[1.0])|(1,[0],[1.0])|\n",
            "|   158680| 8091-TTVAX|    58|         100.35|   No|                 0.0|          1.0|             0.0|                0.0|                 1.0|                   0.0|                  0.0|                0.0|                    1.0|               0.0|               1.0|                   1.0|           2.0|                    1.0|                 3.0|             4796.0|        0.0|         (1,[0],[1.0])|      (1,[],[])|     (1,[0],[1.0])|        (1,[0],[1.0])|         (2,[1],[1.0])|           (2,[0],[1.0])|          (2,[0],[1.0])|        (2,[0],[1.0])|            (2,[1],[1.0])|       (2,[0],[1.0])|       (2,[1],[1.0])|           (2,[1],[1.0])|       (2,[],[])|                (1,[],[])|             (3,[],[])|  (6523,[4796],[1.0])|(1,[0],[1.0])|\n",
            "|   933642| 0280-XJGEX|    49|          103.7|  Yes|                 0.0|          0.0|             0.0|                0.0|                 1.0|                   0.0|                  0.0|                1.0|                    1.0|               0.0|               1.0|                   1.0|           0.0|                    0.0|                 2.0|             4383.0|        1.0|         (1,[0],[1.0])|  (1,[0],[1.0])|     (1,[0],[1.0])|        (1,[0],[1.0])|         (2,[1],[1.0])|           (2,[0],[1.0])|          (2,[0],[1.0])|        (2,[1],[1.0])|            (2,[1],[1.0])|       (2,[0],[1.0])|       (2,[1],[1.0])|           (2,[1],[1.0])|   (2,[0],[1.0])|            (1,[0],[1.0])|         (3,[2],[1.0])|  (6523,[4383],[1.0])|    (1,[],[])|\n",
            "|   529260| 5129-JLPIS|    25|          105.5|   No|                 0.0|          0.0|             0.0|                0.0|                 0.0|                   0.0|                  1.0|                0.0|                    1.0|               1.0|               1.0|                   1.0|           0.0|                    0.0|                 0.0|             2551.0|        0.0|         (1,[0],[1.0])|  (1,[0],[1.0])|     (1,[0],[1.0])|        (1,[0],[1.0])|         (2,[0],[1.0])|           (2,[0],[1.0])|          (2,[1],[1.0])|        (2,[0],[1.0])|            (2,[1],[1.0])|       (2,[1],[1.0])|       (2,[1],[1.0])|           (2,[1],[1.0])|   (2,[0],[1.0])|            (1,[0],[1.0])|         (3,[0],[1.0])|  (6523,[2551],[1.0])|(1,[0],[1.0])|\n",
            "|   663513| 3655-SNQYZ|    69|         113.25|   No|                 0.0|          1.0|             1.0|                0.0|                 1.0|                   0.0|                  1.0|                1.0|                    1.0|               1.0|               1.0|                   1.0|           1.0|                    1.0|                 3.0|             5995.0|        0.0|         (1,[0],[1.0])|      (1,[],[])|         (1,[],[])|        (1,[0],[1.0])|         (2,[1],[1.0])|           (2,[0],[1.0])|          (2,[1],[1.0])|        (2,[1],[1.0])|            (2,[1],[1.0])|       (2,[1],[1.0])|       (2,[1],[1.0])|           (2,[1],[1.0])|   (2,[1],[1.0])|                (1,[],[])|             (3,[],[])|  (6523,[5995],[1.0])|(1,[0],[1.0])|\n",
            "|   698246| 8191-XWSZG|    52|          20.65|   No|                 0.0|          0.0|             0.0|                0.0|                 0.0|                   2.0|                  2.0|                2.0|                    2.0|               2.0|               2.0|                   2.0|           2.0|                    1.0|                 1.0|              403.0|        0.0|         (1,[0],[1.0])|  (1,[0],[1.0])|     (1,[0],[1.0])|        (1,[0],[1.0])|         (2,[0],[1.0])|               (2,[],[])|              (2,[],[])|            (2,[],[])|                (2,[],[])|           (2,[],[])|           (2,[],[])|               (2,[],[])|       (2,[],[])|                (1,[],[])|         (3,[1],[1.0])|   (6523,[403],[1.0])|(1,[0],[1.0])|\n",
            "|   359335| 9959-WOFKT|    71|          106.7|   No|                 0.0|          0.0|             1.0|                0.0|                 1.0|                   0.0|                  1.0|                0.0|                    1.0|               0.0|               1.0|                   1.0|           1.0|                    1.0|                 2.0|             5758.0|        0.0|         (1,[0],[1.0])|  (1,[0],[1.0])|         (1,[],[])|        (1,[0],[1.0])|         (2,[1],[1.0])|           (2,[0],[1.0])|          (2,[1],[1.0])|        (2,[0],[1.0])|            (2,[1],[1.0])|       (2,[0],[1.0])|       (2,[1],[1.0])|           (2,[1],[1.0])|   (2,[1],[1.0])|                (1,[],[])|         (3,[2],[1.0])|  (6523,[5758],[1.0])|(1,[0],[1.0])|\n",
            "|   587516| 4190-MFLUW|    10|           55.2|  Yes|                 0.0|          1.0|             1.0|                0.0|                 0.0|                   1.0|                  0.0|                0.0|                    1.0|               1.0|               0.0|                   0.0|           0.0|                    1.0|                 3.0|                3.0|        1.0|         (1,[0],[1.0])|      (1,[],[])|         (1,[],[])|        (1,[0],[1.0])|         (2,[0],[1.0])|           (2,[1],[1.0])|          (2,[0],[1.0])|        (2,[0],[1.0])|            (2,[1],[1.0])|       (2,[1],[1.0])|       (2,[0],[1.0])|           (2,[0],[1.0])|   (2,[0],[1.0])|                (1,[],[])|             (3,[],[])|     (6523,[3],[1.0])|    (1,[],[])|\n",
            "|   584979| 4183-MYFRB|    21|          90.05|   No|                 0.0|          0.0|             0.0|                0.0|                 0.0|                   0.0|                  0.0|                1.0|                    1.0|               0.0|               0.0|                   1.0|           0.0|                    0.0|                 0.0|             1729.0|        0.0|         (1,[0],[1.0])|  (1,[0],[1.0])|     (1,[0],[1.0])|        (1,[0],[1.0])|         (2,[0],[1.0])|           (2,[0],[1.0])|          (2,[0],[1.0])|        (2,[1],[1.0])|            (2,[1],[1.0])|       (2,[0],[1.0])|       (2,[0],[1.0])|           (2,[1],[1.0])|   (2,[0],[1.0])|            (1,[0],[1.0])|         (3,[0],[1.0])|  (6523,[1729],[1.0])|(1,[0],[1.0])|\n",
            "+---------+-----------+------+---------------+-----+--------------------+-------------+----------------+-------------------+--------------------+----------------------+---------------------+-------------------+-----------------------+------------------+------------------+----------------------+--------------+-----------------------+--------------------+-------------------+-----------+----------------------+---------------+------------------+---------------------+----------------------+------------------------+-----------------------+---------------------+-------------------------+--------------------+--------------------+------------------------+----------------+-------------------------+----------------------+---------------------+-------------+\n",
            "only showing top 20 rows\n",
            "\n"
          ]
        }
      ]
    },
    {
      "cell_type": "code",
      "source": [
        "training_data, test_data = df_transformed.randomSplit([0.8,0.2])"
      ],
      "metadata": {
        "id": "idbC30W5Wa7u"
      },
      "execution_count": 63,
      "outputs": []
    },
    {
      "cell_type": "code",
      "source": [
        "from pyspark.ml.classification import LogisticRegression\n",
        "\n",
        "lr = LogisticRegression(labelCol=\"Churn_index\", featuresCol=\"features\")"
      ],
      "metadata": {
        "id": "1I0EWge7NVRg"
      },
      "execution_count": 64,
      "outputs": []
    },
    {
      "cell_type": "code",
      "source": [
        "from pyspark.ml.feature import VectorAssembler\n",
        "assembler = VectorAssembler(inputCols=[col for col in df_transformed.columns if col not in [\"Customer ID\", \"Churn\", \"Churn_index\"]], \n",
        "                                               outputCol=\"features\")"
      ],
      "metadata": {
        "id": "qrC7wBYvPSiI"
      },
      "execution_count": 65,
      "outputs": []
    },
    {
      "cell_type": "code",
      "source": [
        "from pyspark.ml import Pipeline\n",
        "pipeline = Pipeline(stages=[assembler,lr])\n",
        "\n",
        "model = pipeline.fit(training_data)"
      ],
      "metadata": {
        "id": "MG2Ej7ZaRSmW"
      },
      "execution_count": 66,
      "outputs": []
    },
    {
      "cell_type": "code",
      "source": [
        "from pyspark.ml.evaluation import BinaryClassificationEvaluator\n",
        "\n",
        "predictions = model.transform(test_data)\n",
        "\n",
        "evaluator = BinaryClassificationEvaluator(labelCol=\"Churn_index\")\n",
        "print(\"Test Area Under ROC: \" + str(evaluator.evaluate(predictions, {evaluator.metricName: \"areaUnderROC\"})))"
      ],
      "metadata": {
        "id": "Ec6sHVrURxw4",
        "colab": {
          "base_uri": "https://localhost:8080/"
        },
        "outputId": "b4e0d28a-fb12-4a5f-d0d4-4d5996c36514"
      },
      "execution_count": 67,
      "outputs": [
        {
          "output_type": "stream",
          "name": "stdout",
          "text": [
            "Test Area Under ROC: 0.9999946389177047\n"
          ]
        }
      ]
    },
    {
      "cell_type": "code",
      "source": [],
      "metadata": {
        "id": "B7NoKp_CF1Zm"
      },
      "execution_count": null,
      "outputs": []
    }
  ]
}